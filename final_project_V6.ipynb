{
 "cells": [
  {
   "cell_type": "markdown",
   "id": "a8868b87-a03e-4d5b-8beb-844edc646d81",
   "metadata": {},
   "source": [
    "# Project Cobra\n",
    "### Logan Snyder, Iluda Ko, Brett Simmons, Joey Markun\n",
    "This notebook will show various statistics of vehicle sales at the Ames Ford dealership, and compare those to some national car data. It will also consider tweets made about certain cars and how that compares to how well that car is selling. "
   ]
  },
  {
   "cell_type": "code",
   "execution_count": 1,
   "id": "13d51497-45b1-40fc-8603-6f048c39f287",
   "metadata": {},
   "outputs": [
    {
     "data": {
      "text/html": [
       "<div>\n",
       "<style scoped>\n",
       "    .dataframe tbody tr th:only-of-type {\n",
       "        vertical-align: middle;\n",
       "    }\n",
       "\n",
       "    .dataframe tbody tr th {\n",
       "        vertical-align: top;\n",
       "    }\n",
       "\n",
       "    .dataframe thead th {\n",
       "        text-align: right;\n",
       "    }\n",
       "</style>\n",
       "<table border=\"1\" class=\"dataframe\">\n",
       "  <thead>\n",
       "    <tr style=\"text-align: right;\">\n",
       "      <th></th>\n",
       "      <th>created_at</th>\n",
       "      <th>id</th>\n",
       "      <th>text</th>\n",
       "      <th>polarity</th>\n",
       "      <th>subjectiveness</th>\n",
       "      <th>sentiment</th>\n",
       "    </tr>\n",
       "  </thead>\n",
       "  <tbody>\n",
       "    <tr>\n",
       "      <th>0</th>\n",
       "      <td>2022-05-01T20:06:03.000Z</td>\n",
       "      <td>1520857100213272577</td>\n",
       "      <td>Smart!\\n@Ford Is Forbidding Customers From Doi...</td>\n",
       "      <td>0.215476</td>\n",
       "      <td>0.826190</td>\n",
       "      <td>pos</td>\n",
       "    </tr>\n",
       "    <tr>\n",
       "      <th>1</th>\n",
       "      <td>2022-05-01T20:05:33.000Z</td>\n",
       "      <td>1520856975474577409</td>\n",
       "      <td>RT @39Magilla: @engineers_feed (8) Here are so...</td>\n",
       "      <td>0.500000</td>\n",
       "      <td>1.000000</td>\n",
       "      <td>pos</td>\n",
       "    </tr>\n",
       "    <tr>\n",
       "      <th>2</th>\n",
       "      <td>2022-05-01T20:01:38.000Z</td>\n",
       "      <td>1520855987124641795</td>\n",
       "      <td>RT @NameAndShame19: @TrueFactsStated Why would...</td>\n",
       "      <td>0.312121</td>\n",
       "      <td>0.784848</td>\n",
       "      <td>pos</td>\n",
       "    </tr>\n",
       "    <tr>\n",
       "      <th>3</th>\n",
       "      <td>2022-05-01T20:00:39.000Z</td>\n",
       "      <td>1520855741975998464</td>\n",
       "      <td>@engineers_feed (8) Here are some Mind-blowing...</td>\n",
       "      <td>0.500000</td>\n",
       "      <td>1.000000</td>\n",
       "      <td>pos</td>\n",
       "    </tr>\n",
       "    <tr>\n",
       "      <th>4</th>\n",
       "      <td>2022-05-01T19:58:17.000Z</td>\n",
       "      <td>1520855143859867648</td>\n",
       "      <td>RT @tommolog: Breaking: @Ford F-150 Lightning ...</td>\n",
       "      <td>0.100000</td>\n",
       "      <td>0.400000</td>\n",
       "      <td>nt</td>\n",
       "    </tr>\n",
       "  </tbody>\n",
       "</table>\n",
       "</div>"
      ],
      "text/plain": [
       "                 created_at                   id  \\\n",
       "0  2022-05-01T20:06:03.000Z  1520857100213272577   \n",
       "1  2022-05-01T20:05:33.000Z  1520856975474577409   \n",
       "2  2022-05-01T20:01:38.000Z  1520855987124641795   \n",
       "3  2022-05-01T20:00:39.000Z  1520855741975998464   \n",
       "4  2022-05-01T19:58:17.000Z  1520855143859867648   \n",
       "\n",
       "                                                text  polarity  \\\n",
       "0  Smart!\\n@Ford Is Forbidding Customers From Doi...  0.215476   \n",
       "1  RT @39Magilla: @engineers_feed (8) Here are so...  0.500000   \n",
       "2  RT @NameAndShame19: @TrueFactsStated Why would...  0.312121   \n",
       "3  @engineers_feed (8) Here are some Mind-blowing...  0.500000   \n",
       "4  RT @tommolog: Breaking: @Ford F-150 Lightning ...  0.100000   \n",
       "\n",
       "   subjectiveness sentiment  \n",
       "0        0.826190       pos  \n",
       "1        1.000000       pos  \n",
       "2        0.784848       pos  \n",
       "3        1.000000       pos  \n",
       "4        0.400000        nt  "
      ]
     },
     "execution_count": 1,
     "metadata": {},
     "output_type": "execute_result"
    }
   ],
   "source": [
    "import tweepy\n",
    "from keys import *\n",
    "import requests\n",
    "import pandas as pd\n",
    "from textblob import TextBlob\n",
    "import matplotlib.pylab as plt\n",
    "\n",
    "client = tweepy.Client(bearer_token, api_key, api_secret_key, access_token, access_token_secret)\n",
    "client = tweepy.Client( bearer_token=bearer_token, \n",
    "                        consumer_key=api_key, \n",
    "                        consumer_secret=api_secret_key, \n",
    "                        access_token=access_token, \n",
    "                        access_token_secret=access_token_secret, \n",
    "                        return_type = requests.Response,\n",
    "                        wait_on_rate_limit=True)\n",
    "# Define query\n",
    "query = '(Ford F150) lang:en'\n",
    "# get tweets\n",
    "tweets = client.search_recent_tweets(query=query, \n",
    "                                    tweet_fields=['created_at'],\n",
    "                                     max_results=50)\n",
    "# Save data as dictionary\n",
    "tweets_dict = tweets.json() \n",
    "# Extract \"data\" value from dictionary\n",
    "tweets_data = tweets_dict['data'] \n",
    "# Transform to pandas Dataframe\n",
    "twitter_df = pd.json_normalize(tweets_data) \n",
    "\n",
    "# make polarity and subjectiveness rows, using textblob to calculate the values for each\n",
    "twitter_df['polarity'] = twitter_df['text'].apply(lambda x: float(TextBlob(x).sentiment.polarity)) #-1 to 1(positive)\n",
    "twitter_df['subjectiveness'] = twitter_df['text'].apply(lambda x: float(TextBlob(x).sentiment.subjectivity))\n",
    "\n",
    "\n",
    "# Add another row to the dataframe called sentiment. If the polarity is above 0.2, enter 'pos'. \n",
    "# If the sentiment is <-0.2 enter 'neg'. For polarity -0.2 to 0.2, count this as 'nt' (for neutral).\n",
    "twitter_df.loc[:, 'sentiment'] = 'nt' #set all rows to neutral first \n",
    "twitter_df.loc[twitter_df['polarity'] > 0.2, 'sentiment'] = 'pos' #set all rows above this threshold to pos\n",
    "twitter_df.loc[twitter_df['polarity'] < -0.2, 'sentiment'] = 'neg' #set the column 'sentiment' to neg for all rows w/ polarity below this threshold \n",
    "\n",
    "# calculate Total and percentage positives, negatives, and neutrals. \n",
    "pos_count = len(twitter_df.loc[twitter_df['sentiment'] == 'pos']) # the amount of rows where the sentiment is positive \n",
    "neg_count = len(twitter_df.loc[twitter_df['sentiment'] == 'neg'])\n",
    "nt_count = len(twitter_df.loc[twitter_df['sentiment'] == 'nt']) \n",
    "\n",
    "twitter_df.head(5)"
   ]
  },
  {
   "cell_type": "code",
   "execution_count": 9,
   "id": "c99aa27a-8d0a-4d44-8636-1320e9778495",
   "metadata": {},
   "outputs": [
    {
     "data": {
      "text/html": [
       "<div>\n",
       "<style scoped>\n",
       "    .dataframe tbody tr th:only-of-type {\n",
       "        vertical-align: middle;\n",
       "    }\n",
       "\n",
       "    .dataframe tbody tr th {\n",
       "        vertical-align: top;\n",
       "    }\n",
       "\n",
       "    .dataframe thead th {\n",
       "        text-align: right;\n",
       "    }\n",
       "</style>\n",
       "<table border=\"1\" class=\"dataframe\">\n",
       "  <thead>\n",
       "    <tr style=\"text-align: right;\">\n",
       "      <th></th>\n",
       "      <th>Model</th>\n",
       "      <th>Jan</th>\n",
       "      <th>Feb</th>\n",
       "      <th>Mar</th>\n",
       "      <th>Apr</th>\n",
       "      <th>May</th>\n",
       "      <th>Jun</th>\n",
       "      <th>Jul</th>\n",
       "      <th>Aug</th>\n",
       "      <th>Sep</th>\n",
       "      <th>Oct</th>\n",
       "      <th>Nov</th>\n",
       "      <th>Dec</th>\n",
       "      <th>Total</th>\n",
       "    </tr>\n",
       "  </thead>\n",
       "  <tbody>\n",
       "    <tr>\n",
       "      <th>0</th>\n",
       "      <td>Chevrolet Colorado</td>\n",
       "      <td>7,707</td>\n",
       "      <td>7,707</td>\n",
       "      <td>8,670</td>\n",
       "      <td>4,989</td>\n",
       "      <td>4,797</td>\n",
       "      <td>4,989</td>\n",
       "      <td>4,285</td>\n",
       "      <td>4,126</td>\n",
       "      <td>4,285</td>\n",
       "      <td>7,151</td>\n",
       "      <td>7,151</td>\n",
       "      <td>7,151</td>\n",
       "      <td>73,008</td>\n",
       "    </tr>\n",
       "    <tr>\n",
       "      <th>1</th>\n",
       "      <td>Chevrolet Silverado</td>\n",
       "      <td>40,509</td>\n",
       "      <td>40,509</td>\n",
       "      <td>45,573</td>\n",
       "      <td>55,623</td>\n",
       "      <td>53,484</td>\n",
       "      <td>55,623</td>\n",
       "      <td>41,535</td>\n",
       "      <td>39,997</td>\n",
       "      <td>41,535</td>\n",
       "      <td>38,459</td>\n",
       "      <td>38,459</td>\n",
       "      <td>38,459</td>\n",
       "      <td>529,765</td>\n",
       "    </tr>\n",
       "    <tr>\n",
       "      <th>2</th>\n",
       "      <td>Ford F-Series</td>\n",
       "      <td>55,276</td>\n",
       "      <td>64,478</td>\n",
       "      <td>84,043</td>\n",
       "      <td>66,302</td>\n",
       "      <td>46,260</td>\n",
       "      <td>45,672</td>\n",
       "      <td>52,314</td>\n",
       "      <td>57,321</td>\n",
       "      <td>63,164</td>\n",
       "      <td>68,259</td>\n",
       "      <td>60,418</td>\n",
       "      <td>62,496</td>\n",
       "      <td>726,003</td>\n",
       "    </tr>\n",
       "  </tbody>\n",
       "</table>\n",
       "</div>"
      ],
      "text/plain": [
       "                 Model     Jan     Feb     Mar     Apr     May     Jun  \\\n",
       "0   Chevrolet Colorado   7,707   7,707   8,670   4,989   4,797   4,989   \n",
       "1  Chevrolet Silverado  40,509  40,509  45,573  55,623  53,484  55,623   \n",
       "2        Ford F-Series  55,276  64,478  84,043  66,302  46,260  45,672   \n",
       "\n",
       "      Jul     Aug     Sep     Oct     Nov     Dec    Total  \n",
       "0   4,285   4,126   4,285   7,151   7,151   7,151   73,008  \n",
       "1  41,535  39,997  41,535  38,459  38,459  38,459  529,765  \n",
       "2  52,314  57,321  63,164  68,259  60,418  62,496  726,003  "
      ]
     },
     "execution_count": 9,
     "metadata": {},
     "output_type": "execute_result"
    }
   ],
   "source": [
    "national_df = pd.read_csv(\"https://raw.githubusercontent.com/iludako/final_project/main/2021%20TruckSUV%20Sales.csv\") \n",
    "#national sales data dictionary to access data later\n",
    "national_data_dict = {}\n",
    "for i in national_df.index:\n",
    "    model = national_df.loc[i]['Model']\n",
    "    sales = national_df.loc[i]['Total']\n",
    "    sales = int(sales.replace(\",\",\"\"))\n",
    "    national_data_dict[model] = sales\n",
    "national_df.drop(national_df.columns[[14]], axis = 1, inplace = True)\n",
    "national_df.head(3)"
   ]
  },
  {
   "cell_type": "code",
   "execution_count": 3,
   "id": "4a9a0b6d-51c9-4df5-9b45-8ef32df09611",
   "metadata": {},
   "outputs": [
    {
     "data": {
      "text/html": [
       "<div>\n",
       "<style scoped>\n",
       "    .dataframe tbody tr th:only-of-type {\n",
       "        vertical-align: middle;\n",
       "    }\n",
       "\n",
       "    .dataframe tbody tr th {\n",
       "        vertical-align: top;\n",
       "    }\n",
       "\n",
       "    .dataframe thead th {\n",
       "        text-align: right;\n",
       "    }\n",
       "</style>\n",
       "<table border=\"1\" class=\"dataframe\">\n",
       "  <thead>\n",
       "    <tr style=\"text-align: right;\">\n",
       "      <th></th>\n",
       "      <th>StockNo</th>\n",
       "      <th>Customer ID</th>\n",
       "      <th>VehicleType</th>\n",
       "      <th>Model</th>\n",
       "      <th>CarTrim</th>\n",
       "      <th>DateSold</th>\n",
       "      <th>IsHybrid</th>\n",
       "      <th>IsDiesel</th>\n",
       "      <th>IsElectric</th>\n",
       "      <th>MPG</th>\n",
       "    </tr>\n",
       "  </thead>\n",
       "  <tbody>\n",
       "    <tr>\n",
       "      <th>0</th>\n",
       "      <td>16517</td>\n",
       "      <td>7</td>\n",
       "      <td>Car</td>\n",
       "      <td>Mustang</td>\n",
       "      <td>EcoBoost</td>\n",
       "      <td>1/6/21</td>\n",
       "      <td>N</td>\n",
       "      <td>N</td>\n",
       "      <td>N</td>\n",
       "      <td>26.5</td>\n",
       "    </tr>\n",
       "    <tr>\n",
       "      <th>1</th>\n",
       "      <td>16385</td>\n",
       "      <td>62</td>\n",
       "      <td>Car</td>\n",
       "      <td>Mustang</td>\n",
       "      <td>EcoBoost</td>\n",
       "      <td>2/18/21</td>\n",
       "      <td>N</td>\n",
       "      <td>N</td>\n",
       "      <td>N</td>\n",
       "      <td>26.5</td>\n",
       "    </tr>\n",
       "    <tr>\n",
       "      <th>2</th>\n",
       "      <td>15687</td>\n",
       "      <td>185</td>\n",
       "      <td>Car</td>\n",
       "      <td>Mustang</td>\n",
       "      <td>EcoBoost</td>\n",
       "      <td>5/15/21</td>\n",
       "      <td>N</td>\n",
       "      <td>N</td>\n",
       "      <td>N</td>\n",
       "      <td>26.5</td>\n",
       "    </tr>\n",
       "  </tbody>\n",
       "</table>\n",
       "</div>"
      ],
      "text/plain": [
       "   StockNo  Customer ID VehicleType    Model   CarTrim DateSold IsHybrid  \\\n",
       "0    16517            7         Car  Mustang  EcoBoost   1/6/21        N   \n",
       "1    16385           62         Car  Mustang  EcoBoost  2/18/21        N   \n",
       "2    15687          185         Car  Mustang  EcoBoost  5/15/21        N   \n",
       "\n",
       "  IsDiesel IsElectric   MPG  \n",
       "0        N          N  26.5  \n",
       "1        N          N  26.5  \n",
       "2        N          N  26.5  "
      ]
     },
     "execution_count": 3,
     "metadata": {},
     "output_type": "execute_result"
    }
   ],
   "source": [
    "local_df = pd.read_csv(\"https://raw.githubusercontent.com/iludako/final_project/main/MIS307%20Final%20Project%20Database.csv\") \n",
    "local_df.drop(local_df.iloc[:,10:18], axis = 1, inplace = True)\n",
    "local_df.head(3)\n"
   ]
  },
  {
   "cell_type": "code",
   "execution_count": 4,
   "id": "4b809910-0d86-4656-9a6a-c46a23a015f6",
   "metadata": {},
   "outputs": [
    {
     "name": "stdout",
     "output_type": "stream",
     "text": [
      "{'King Ranch': 10, 'Lariat': 18, 'Limited': 5, 'Platinum': 7, 'Raptor': 4, 'XL': 41, 'XLT': 25}\n"
     ]
    }
   ],
   "source": [
    "# set dictionary for counting trim occurances for the F-150 in local data\n",
    "trim_count = {}\n",
    "for i in local_df.index:\n",
    "    if local_df.loc[i]['Model'] == \"F-150\":\n",
    "        trim = local_df.loc[i]['CarTrim']\n",
    "        if trim in trim_count: \n",
    "            trim_count[trim] +=1\n",
    "        else: \n",
    "            trim_count[trim] = 1\n",
    "        \n",
    "print(trim_count)"
   ]
  },
  {
   "cell_type": "code",
   "execution_count": 17,
   "id": "ba77efdf-4782-4c22-80ee-9992030c89fb",
   "metadata": {},
   "outputs": [
    {
     "data": {
      "image/png": "[encoded data removed]",
      "text/plain": [
       "<Figure size 864x432 with 1 Axes>"
      ]
     },
     "metadata": {
      "needs_background": "light"
     },
     "output_type": "display_data"
    }
   ],
   "source": [
    "fig = plt.figure(figsize=(12,6))\n",
    "plt.bar(range(len(trim_count)), trim_count.values(), align='center')\n",
    "plt.xticks(range(len(trim_count)), list(trim_count.keys()))\n",
    "plt.show()"
   ]
  },
  {
   "cell_type": "code",
   "execution_count": 10,
   "id": "5bb5bcb5-cc33-43bd-89e7-95a296b78810",
   "metadata": {},
   "outputs": [
    {
     "name": "stdout",
     "output_type": "stream",
     "text": [
      "{'Mustang': 16, 'F-150': 110, 'F-250': 7, 'F-350': 13, 'F-450': 3, 'Expedition': 6, 'Explorer': 38, 'F-550': 1, 'Fusion': 6, 'Escape': 61, 'EcoSport': 10}\n"
     ]
    }
   ],
   "source": [
    "# set dictionary for counting model occurances in local data\n",
    "model_count = {}\n",
    "for i in local_df.index:\n",
    "    model = local_df.loc[i]['Model']\n",
    "    if model in model_count: \n",
    "        model_count[model] +=1\n",
    "    else: \n",
    "        model_count[model] = 1\n",
    "        \n",
    "print(model_count)"
   ]
  },
  {
   "cell_type": "code",
   "execution_count": 16,
   "id": "fba0789e-5936-4c6e-a925-b77877664ef8",
   "metadata": {},
   "outputs": [
    {
     "data": {
      "image/png": "[encoded data removed]",
      "text/plain": [
       "<Figure size 1080x504 with 1 Axes>"
      ]
     },
     "metadata": {
      "needs_background": "light"
     },
     "output_type": "display_data"
    }
   ],
   "source": [
    "fig = plt.figure(figsize=(15,7))\n",
    "plt.bar(range(len(model_count)), model_count.values(), align='center')\n",
    "plt.xticks(range(len(model_count)), list(model_count.keys()))\n",
    "plt.show()"
   ]
  },
  {
   "cell_type": "code",
   "execution_count": null,
   "id": "e25c27d3-b243-4fba-b450-b54c00ade1c0",
   "metadata": {},
   "outputs": [],
   "source": [
    "print(\"Ford F-Series truck sales nationwide compared to at the Ford dealership in Ames: \\n\\n\")\n",
    "print(f\"The most popular selling Ford vehicle for the Ames dealership is the F-150, and it accounts for {model_count['F-150']/len(local_df.loc[:]) *100 :.2f}% of all sales at the dealership. \")\n",
    "print(f\"The Ford F-150 has various trim levels, and the most commonly sold trim in Ames is the 'XL' trim. Approximately {trim_count['XL']/model_count['F-150'] *100 :.2f}% of the F-150 trucks sold at the Ames deaslership were sold in this trim level.  \")\n",
    "\n",
    "\n",
    "print(f\"\\n\\nThe Ford F-Series accounted for {national_data_dict['Ford F-Series']/national_data_dict['All_Vehicle_Sale_Totals'] *100 :.2f}% of sales nation wide. \")\n",
    "\n",
    "print(\"\\n\\n50 recent tweets about the Ford F-150 have the following average positivity levels: \")\n",
    "print(f'% Positive Tweets: {pos_count/len(twitter_df) *100:.2f}% ')\n",
    "print(f'% Negative Tweets: {neg_count/len(twitter_df) *100:.2f}% ')\n",
    "print(f'% Neutral Tweets: {nt_count/len(twitter_df) *100:.2f}% ')"
   ]
  },
  {
   "cell_type": "code",
   "execution_count": null,
   "id": "45c65f72-1c7c-4fe1-8043-5af9f32cca3d",
   "metadata": {},
   "outputs": [],
   "source": []
  }
 ],
 "metadata": {
  "kernelspec": {
   "display_name": "Python 3 (ipykernel)",
   "language": "python",
   "name": "python3"
  },
  "language_info": {
   "codemirror_mode": {
    "name": "ipython",
    "version": 3
   },
   "file_extension": ".py",
   "mimetype": "text/x-python",
   "name": "python",
   "nbconvert_exporter": "python",
   "pygments_lexer": "ipython3",
   "version": "3.9.7"
  }
 },
 "nbformat": 4,
 "nbformat_minor": 5
}
